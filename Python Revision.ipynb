{
 "cells": [
  {
   "cell_type": "code",
   "execution_count": 2,
   "id": "b60604c6-90e0-4010-99ed-81be2717c295",
   "metadata": {},
   "outputs": [
    {
     "name": "stdout",
     "output_type": "stream",
     "text": [
      "30\n"
     ]
    }
   ],
   "source": [
    "a=10\n",
    "b=20\n",
    "c=a+b\n",
    "print(c)"
   ]
  },
  {
   "cell_type": "code",
   "execution_count": 18,
   "id": "d55d4535-8e48-4b44-96bf-b99ffb8d97d2",
   "metadata": {},
   "outputs": [
    {
     "name": "stdout",
     "output_type": "stream",
     "text": [
      "0\n",
      "1\n",
      "4\n",
      "9\n",
      "16\n",
      "25\n",
      "36\n",
      "49\n",
      "64\n",
      "81\n"
     ]
    }
   ],
   "source": [
    "for i in range(10):\n",
    "    print(i**2)"
   ]
  },
  {
   "cell_type": "code",
   "execution_count": 14,
   "id": "55eaa405-9f8a-4b26-85c4-eb977ed39135",
   "metadata": {},
   "outputs": [
    {
     "data": {
      "text/plain": [
       "2.5"
      ]
     },
     "execution_count": 14,
     "metadata": {},
     "output_type": "execute_result"
    }
   ],
   "source": [
    "5/2"
   ]
  },
  {
   "cell_type": "code",
   "execution_count": 16,
   "id": "d8775a79-e37d-4ba8-b859-fe0b7eac802f",
   "metadata": {},
   "outputs": [
    {
     "data": {
      "text/plain": [
       "2"
      ]
     },
     "execution_count": 16,
     "metadata": {},
     "output_type": "execute_result"
    }
   ],
   "source": [
    "5//2"
   ]
  },
  {
   "cell_type": "code",
   "execution_count": 20,
   "id": "d66cbeca-30e9-401e-8180-6e33641298e8",
   "metadata": {},
   "outputs": [
    {
     "data": {
      "text/plain": [
       "100.06"
      ]
     },
     "execution_count": 20,
     "metadata": {},
     "output_type": "execute_result"
    }
   ],
   "source": [
    "round(100.0625,2)"
   ]
  },
  {
   "cell_type": "code",
   "execution_count": 22,
   "id": "71818f2b-289d-4eed-86dc-8694e0f9ce08",
   "metadata": {},
   "outputs": [
    {
     "data": {
      "text/plain": [
       "'python'"
      ]
     },
     "execution_count": 22,
     "metadata": {},
     "output_type": "execute_result"
    }
   ],
   "source": [
    "'py'+'thon'"
   ]
  },
  {
   "cell_type": "code",
   "execution_count": 28,
   "id": "79ab85d1-629b-4906-8864-811174941f7b",
   "metadata": {},
   "outputs": [],
   "source": [
    "a='krishang is a good boy'"
   ]
  },
  {
   "cell_type": "code",
   "execution_count": 30,
   "id": "506bc8ee-a60e-464f-9a6c-2a2f5873e8c5",
   "metadata": {},
   "outputs": [
    {
     "data": {
      "text/plain": [
       "'Krishang is a good boy'"
      ]
     },
     "execution_count": 30,
     "metadata": {},
     "output_type": "execute_result"
    }
   ],
   "source": [
    "a.capitalize() # just capitalizes the first word"
   ]
  },
  {
   "cell_type": "code",
   "execution_count": 36,
   "id": "684eabb3-dfc7-4ce4-87bb-f9af1ac6e60f",
   "metadata": {},
   "outputs": [],
   "source": [
    "b='German'"
   ]
  },
  {
   "cell_type": "code",
   "execution_count": 54,
   "id": "3e41e1df-b0de-4748-b894-f78ce37553fd",
   "metadata": {},
   "outputs": [
    {
     "name": "stdout",
     "output_type": "stream",
     "text": [
      "I am trying a 'new string'\n"
     ]
    }
   ],
   "source": [
    "print(\"I am trying a 'new string'\")"
   ]
  },
  {
   "cell_type": "code",
   "execution_count": 56,
   "id": "aa45e55d-26a9-42aa-8218-dfb9efd9df8c",
   "metadata": {},
   "outputs": [],
   "source": [
    "a = \"\"\"Lorem ipsum dolor sit amet,\n",
    "consectetur adipiscing elit,\n",
    "sed do eiusmod tempor incididunt\n",
    "ut labore et dolore magna aliqua.\"\"\""
   ]
  },
  {
   "cell_type": "code",
   "execution_count": 58,
   "id": "802ba1df-248a-4181-b490-ca320273f07f",
   "metadata": {},
   "outputs": [
    {
     "data": {
      "text/plain": [
       "'Lorem ipsum dolor sit amet,\\nconsectetur adipiscing elit,\\nsed do eiusmod tempor incididunt\\nut labore et dolore magna aliqua.'"
      ]
     },
     "execution_count": 58,
     "metadata": {},
     "output_type": "execute_result"
    }
   ],
   "source": [
    "a"
   ]
  },
  {
   "cell_type": "code",
   "execution_count": 66,
   "id": "a96eca5c-70a2-42a3-91a8-496185e44ed3",
   "metadata": {},
   "outputs": [
    {
     "name": "stdout",
     "output_type": "stream",
     "text": [
      "e\n"
     ]
    }
   ],
   "source": [
    "a = \"Hello World!\"\n",
    "print(a[1][0])"
   ]
  },
  {
   "cell_type": "code",
   "execution_count": 68,
   "id": "699e5063-1841-421f-98c3-30efcad0cf95",
   "metadata": {},
   "outputs": [
    {
     "name": "stdout",
     "output_type": "stream",
     "text": [
      "b\n",
      "a\n",
      "n\n",
      "a\n",
      "n\n",
      "a\n"
     ]
    }
   ],
   "source": [
    "for letter in 'banana':\n",
    "    print(letter)"
   ]
  },
  {
   "cell_type": "code",
   "execution_count": 70,
   "id": "80138d9d-f5fd-49fa-8a12-5267e6d8c16c",
   "metadata": {},
   "outputs": [
    {
     "name": "stdout",
     "output_type": "stream",
     "text": [
      "True\n"
     ]
    }
   ],
   "source": [
    "print('in' in 'it is in rains today')"
   ]
  },
  {
   "cell_type": "code",
   "execution_count": 84,
   "id": "22a46fdc-2809-41de-ae07-ed28f7256cbf",
   "metadata": {},
   "outputs": [
    {
     "data": {
      "text/plain": [
       "'free sale of tv'"
      ]
     },
     "execution_count": 84,
     "metadata": {},
     "output_type": "execute_result"
    }
   ],
   "source": [
    "a"
   ]
  },
  {
   "cell_type": "code",
   "execution_count": 86,
   "id": "c4905bf5-7d1c-43b7-be32-89795f9d6104",
   "metadata": {},
   "outputs": [
    {
     "data": {
      "text/plain": [
       "'free sale of tv'"
      ]
     },
     "execution_count": 86,
     "metadata": {},
     "output_type": "execute_result"
    }
   ],
   "source": [
    "a"
   ]
  },
  {
   "cell_type": "code",
   "execution_count": 88,
   "id": "334df39c-a053-42ba-9564-5b634e587d98",
   "metadata": {},
   "outputs": [
    {
     "data": {
      "text/plain": [
       "'FREE SALE OF TV'"
      ]
     },
     "execution_count": 88,
     "metadata": {},
     "output_type": "execute_result"
    }
   ],
   "source": [
    "a.upper()"
   ]
  },
  {
   "cell_type": "code",
   "execution_count": 90,
   "id": "265fcfa7-76a7-4571-a885-3b9b0e077329",
   "metadata": {},
   "outputs": [
    {
     "data": {
      "text/plain": [
       "'free sale of tv'"
      ]
     },
     "execution_count": 90,
     "metadata": {},
     "output_type": "execute_result"
    }
   ],
   "source": [
    "a.lower()"
   ]
  },
  {
   "cell_type": "code",
   "execution_count": 92,
   "id": "9876a322-7696-4bb9-89f2-b9394a2327ad",
   "metadata": {},
   "outputs": [
    {
     "data": {
      "text/plain": [
       "'Free sale of tv'"
      ]
     },
     "execution_count": 92,
     "metadata": {},
     "output_type": "execute_result"
    }
   ],
   "source": [
    "a.capitalize()"
   ]
  },
  {
   "cell_type": "code",
   "execution_count": 94,
   "id": "0504576f-5599-40c0-b301-52dfa69f402c",
   "metadata": {},
   "outputs": [
    {
     "data": {
      "text/plain": [
       "'this is whitespace'"
      ]
     },
     "execution_count": 94,
     "metadata": {},
     "output_type": "execute_result"
    }
   ],
   "source": [
    "a='    this is whitespace'\n",
    "a.strip()"
   ]
  },
  {
   "cell_type": "code",
   "execution_count": 96,
   "id": "8f5153f4-73ff-491f-8007-d3f5bd32c5c8",
   "metadata": {},
   "outputs": [
    {
     "data": {
      "text/plain": [
       "'    this was whitespace'"
      ]
     },
     "execution_count": 96,
     "metadata": {},
     "output_type": "execute_result"
    }
   ],
   "source": [
    "a.replace('this is','this was')"
   ]
  },
  {
   "cell_type": "code",
   "execution_count": 100,
   "id": "95ce1942-43dd-4ba4-ad1d-7b2c9cbeae9d",
   "metadata": {},
   "outputs": [
    {
     "data": {
      "text/plain": [
       "6"
      ]
     },
     "execution_count": 100,
     "metadata": {},
     "output_type": "execute_result"
    }
   ],
   "source": [
    "a.find('is')"
   ]
  },
  {
   "cell_type": "code",
   "execution_count": 116,
   "id": "3285ba64-4dcf-4753-8984-d4e689d3fb85",
   "metadata": {},
   "outputs": [],
   "source": [
    "b='this, was the this case, sometime back'"
   ]
  },
  {
   "cell_type": "code",
   "execution_count": 110,
   "id": "63286fbf-f335-4d47-ac7c-80d972fd24eb",
   "metadata": {},
   "outputs": [
    {
     "data": {
      "text/plain": [
       "' was the case'"
      ]
     },
     "execution_count": 110,
     "metadata": {},
     "output_type": "execute_result"
    }
   ],
   "source": [
    "list_b=b.split(\",\")\n",
    "list_b[1]"
   ]
  },
  {
   "cell_type": "code",
   "execution_count": 114,
   "id": "b07d9f1e-d027-42a9-9d40-9499d6a6de8e",
   "metadata": {},
   "outputs": [
    {
     "data": {
      "text/plain": [
       "33"
      ]
     },
     "execution_count": 114,
     "metadata": {},
     "output_type": "execute_result"
    }
   ],
   "source": [
    "len(b)"
   ]
  },
  {
   "cell_type": "code",
   "execution_count": 120,
   "id": "e9ce490d-f24d-4604-b481-928addbf8975",
   "metadata": {},
   "outputs": [
    {
     "data": {
      "text/plain": [
       "4"
      ]
     },
     "execution_count": 120,
     "metadata": {},
     "output_type": "execute_result"
    }
   ],
   "source": [
    "b.count('t')"
   ]
  },
  {
   "cell_type": "code",
   "execution_count": 122,
   "id": "7964ad8b-753d-46c0-9d1a-e997a7a50b97",
   "metadata": {},
   "outputs": [
    {
     "data": {
      "text/plain": [
       "'this, was the this case, sometime back'"
      ]
     },
     "execution_count": 122,
     "metadata": {},
     "output_type": "execute_result"
    }
   ],
   "source": [
    "b"
   ]
  },
  {
   "cell_type": "code",
   "execution_count": 124,
   "id": "9b9e6e4e-1349-4ef0-9544-dab13ab7fc4b",
   "metadata": {},
   "outputs": [
    {
     "data": {
      "text/plain": [
       "6"
      ]
     },
     "execution_count": 124,
     "metadata": {},
     "output_type": "execute_result"
    }
   ],
   "source": [
    "b.find('w')"
   ]
  },
  {
   "cell_type": "code",
   "execution_count": 126,
   "id": "4b9d5bdc-6eee-4124-8004-6ee58071870b",
   "metadata": {},
   "outputs": [
    {
     "data": {
      "text/plain": [
       "0"
      ]
     },
     "execution_count": 126,
     "metadata": {},
     "output_type": "execute_result"
    }
   ],
   "source": [
    "b.find(\"this\")"
   ]
  },
  {
   "cell_type": "code",
   "execution_count": 128,
   "id": "d06f9bab-9f9a-4a18-a47c-f404e1fcf1ad",
   "metadata": {},
   "outputs": [
    {
     "data": {
      "text/plain": [
       "10"
      ]
     },
     "execution_count": 128,
     "metadata": {},
     "output_type": "execute_result"
    }
   ],
   "source": [
    "b.find(\"the\")"
   ]
  },
  {
   "cell_type": "code",
   "execution_count": 136,
   "id": "10f16837-9f9a-472e-86df-c4e18cbe6872",
   "metadata": {},
   "outputs": [],
   "source": [
    "a=\"my name is {0}, I'm {1} years old, I love playing {num:.2f}\".format('Rahul',36,num=10)"
   ]
  },
  {
   "cell_type": "code",
   "execution_count": 138,
   "id": "a161cc76-a120-4195-bc7a-83b8a17601fd",
   "metadata": {},
   "outputs": [
    {
     "data": {
      "text/plain": [
       "\"my name is Rahul, I'm 36 years old, I love playing 10.00\""
      ]
     },
     "execution_count": 138,
     "metadata": {},
     "output_type": "execute_result"
    }
   ],
   "source": [
    "a"
   ]
  },
  {
   "cell_type": "code",
   "execution_count": 150,
   "id": "3f25cef4-9eb7-4850-b7f1-c97616caf5b3",
   "metadata": {},
   "outputs": [
    {
     "data": {
      "text/plain": [
       "3"
      ]
     },
     "execution_count": 150,
     "metadata": {},
     "output_type": "execute_result"
    }
   ],
   "source": [
    "a.find('name')"
   ]
  },
  {
   "cell_type": "code",
   "execution_count": 152,
   "id": "c8d8c339-c0a7-4113-b4dd-e5e50b0d830c",
   "metadata": {},
   "outputs": [
    {
     "data": {
      "text/plain": [
       "3"
      ]
     },
     "execution_count": 152,
     "metadata": {},
     "output_type": "execute_result"
    }
   ],
   "source": [
    "a.index('name')"
   ]
  },
  {
   "cell_type": "code",
   "execution_count": 164,
   "id": "d8e8e99d-5c7d-4dc9-ad4d-1958c791c669",
   "metadata": {},
   "outputs": [],
   "source": [
    "txt=\"my name is kanha, I am {1}\".format(10,36)"
   ]
  },
  {
   "cell_type": "code",
   "execution_count": 166,
   "id": "5818274f-3d97-469c-a7f2-f628a94d16ce",
   "metadata": {},
   "outputs": [
    {
     "data": {
      "text/plain": [
       "'my name is kanha, I am 36'"
      ]
     },
     "execution_count": 166,
     "metadata": {},
     "output_type": "execute_result"
    }
   ],
   "source": [
    "txt"
   ]
  },
  {
   "cell_type": "code",
   "execution_count": 178,
   "id": "b8f08e29-40cf-46d6-abaa-86c4b257c799",
   "metadata": {},
   "outputs": [
    {
     "name": "stdout",
     "output_type": "stream",
     "text": [
      "we are so called \t \t \"Vikings\" from the north\n"
     ]
    }
   ],
   "source": [
    "print(\"we are so called \\t \\t \\\"Vikings\\\" from the north\")"
   ]
  },
  {
   "cell_type": "code",
   "execution_count": 186,
   "id": "3245ac0e-ab62-4941-8e84-3f14fcdf424c",
   "metadata": {},
   "outputs": [],
   "source": [
    "x=list(('a','b'))"
   ]
  },
  {
   "cell_type": "code",
   "execution_count": 188,
   "id": "df36987c-b0d1-4c00-bc50-a1b0692be406",
   "metadata": {},
   "outputs": [
    {
     "data": {
      "text/plain": [
       "['a', 'b']"
      ]
     },
     "execution_count": 188,
     "metadata": {},
     "output_type": "execute_result"
    }
   ],
   "source": [
    "x"
   ]
  },
  {
   "cell_type": "code",
   "execution_count": 190,
   "id": "487906db-f4c3-421b-8960-4a94ba3af53e",
   "metadata": {},
   "outputs": [
    {
     "data": {
      "text/plain": [
       "list"
      ]
     },
     "execution_count": 190,
     "metadata": {},
     "output_type": "execute_result"
    }
   ],
   "source": [
    "type(x)"
   ]
  },
  {
   "cell_type": "code",
   "execution_count": 192,
   "id": "c853b4df-a2f8-475f-8f03-bc64cefb7352",
   "metadata": {},
   "outputs": [],
   "source": [
    "x=3+5j"
   ]
  },
  {
   "cell_type": "code",
   "execution_count": 194,
   "id": "a648eb32-d386-4a95-b140-d8dfe58e4f97",
   "metadata": {},
   "outputs": [
    {
     "data": {
      "text/plain": [
       "complex"
      ]
     },
     "execution_count": 194,
     "metadata": {},
     "output_type": "execute_result"
    }
   ],
   "source": [
    "type(x)"
   ]
  },
  {
   "cell_type": "code",
   "execution_count": 196,
   "id": "d70e9cff-8770-460c-a3b6-36f02bb64bf9",
   "metadata": {},
   "outputs": [
    {
     "ename": "NameError",
     "evalue": "name 'j5' is not defined",
     "output_type": "error",
     "traceback": [
      "\u001b[1;31m---------------------------------------------------------------------------\u001b[0m",
      "\u001b[1;31mNameError\u001b[0m                                 Traceback (most recent call last)",
      "Cell \u001b[1;32mIn[196], line 1\u001b[0m\n\u001b[1;32m----> 1\u001b[0m x\u001b[38;5;241m=\u001b[39m\u001b[38;5;241m3\u001b[39m\u001b[38;5;241m+\u001b[39mj5\n",
      "\u001b[1;31mNameError\u001b[0m: name 'j5' is not defined"
     ]
    }
   ],
   "source": [
    "x=3+j5"
   ]
  },
  {
   "cell_type": "code",
   "execution_count": 198,
   "id": "2693c034-a9b1-4998-b68f-7a0ca68a3b02",
   "metadata": {},
   "outputs": [
    {
     "data": {
      "text/plain": [
       "(1+0j)"
      ]
     },
     "execution_count": 198,
     "metadata": {},
     "output_type": "execute_result"
    }
   ],
   "source": [
    "a=1\n",
    "b=complex(a)\n",
    "b"
   ]
  },
  {
   "cell_type": "code",
   "execution_count": 200,
   "id": "1dc9a626-b98f-45de-af32-84cf2fe4b748",
   "metadata": {},
   "outputs": [
    {
     "name": "stdout",
     "output_type": "stream",
     "text": [
      "6\n"
     ]
    }
   ],
   "source": [
    "import random\n",
    "\n",
    "print(random.randrange(1, 10))"
   ]
  },
  {
   "cell_type": "code",
   "execution_count": 204,
   "id": "09b97a8c-7336-44b8-a497-436d24d60c5c",
   "metadata": {},
   "outputs": [
    {
     "name": "stdout",
     "output_type": "stream",
     "text": [
      "['apple', 'watermelon', 'banana', 'cherry']\n"
     ]
    }
   ],
   "source": [
    "thislist = [\"apple\", \"banana\", \"cherry\"]\n",
    "thislist.insert(1, \"watermelon\")\n",
    "print(thislist)"
   ]
  },
  {
   "cell_type": "code",
   "execution_count": 206,
   "id": "20b3292d-5ee6-4c71-8d04-0c93579051ed",
   "metadata": {},
   "outputs": [],
   "source": [
    "a=['a',1,2]\n",
    "b=[3, 'e']"
   ]
  },
  {
   "cell_type": "code",
   "execution_count": 208,
   "id": "cfa9e5a4-f789-49cf-bcf0-a69ff2038a71",
   "metadata": {},
   "outputs": [],
   "source": [
    "a.insert(1,23)"
   ]
  },
  {
   "cell_type": "code",
   "execution_count": 210,
   "id": "cd90e714-99c9-49ae-ab50-a81c782902af",
   "metadata": {},
   "outputs": [
    {
     "data": {
      "text/plain": [
       "['a', 23, 1, 2]"
      ]
     },
     "execution_count": 210,
     "metadata": {},
     "output_type": "execute_result"
    }
   ],
   "source": [
    "a"
   ]
  },
  {
   "cell_type": "code",
   "execution_count": 212,
   "id": "48ae1a2c-f3ed-4551-84e1-fcdee6530757",
   "metadata": {},
   "outputs": [],
   "source": [
    "b.extend(a)"
   ]
  },
  {
   "cell_type": "code",
   "execution_count": 214,
   "id": "feb8642b-68c5-482d-b991-7f37d2aff6f0",
   "metadata": {},
   "outputs": [
    {
     "data": {
      "text/plain": [
       "[3, 'e', 'a', 23, 1, 2]"
      ]
     },
     "execution_count": 214,
     "metadata": {},
     "output_type": "execute_result"
    }
   ],
   "source": [
    "b"
   ]
  },
  {
   "cell_type": "code",
   "execution_count": 216,
   "id": "74285dcb-2414-4312-904a-cd8e18f4d96b",
   "metadata": {},
   "outputs": [],
   "source": [
    "b.append('newlst')"
   ]
  },
  {
   "cell_type": "code",
   "execution_count": 218,
   "id": "64fd8640-c6f6-487d-8b55-c3b928bbe176",
   "metadata": {},
   "outputs": [
    {
     "data": {
      "text/plain": [
       "[3, 'e', 'a', 23, 1, 2, 'newlst']"
      ]
     },
     "execution_count": 218,
     "metadata": {},
     "output_type": "execute_result"
    }
   ],
   "source": [
    "b"
   ]
  },
  {
   "cell_type": "code",
   "execution_count": 220,
   "id": "b782b92a-96d5-4b28-8f5c-e0de9959d30a",
   "metadata": {},
   "outputs": [
    {
     "data": {
      "text/plain": [
       "[3, 'e', 'a', 23, 1, 2, 'newlst']"
      ]
     },
     "execution_count": 220,
     "metadata": {},
     "output_type": "execute_result"
    }
   ],
   "source": [
    "b"
   ]
  },
  {
   "cell_type": "code",
   "execution_count": 224,
   "id": "53b949d4-c586-4d26-b44f-e8c0fdbc48d8",
   "metadata": {},
   "outputs": [
    {
     "data": {
      "text/plain": [
       "[3, 'e', 'a', 23, 1, 2, 'newlst']"
      ]
     },
     "execution_count": 224,
     "metadata": {},
     "output_type": "execute_result"
    }
   ],
   "source": [
    "b"
   ]
  },
  {
   "cell_type": "code",
   "execution_count": 226,
   "id": "4df3b2d7-7cb9-44ea-8b22-ff1d4bcba79f",
   "metadata": {},
   "outputs": [],
   "source": [
    "b.remove('newlst')"
   ]
  },
  {
   "cell_type": "code",
   "execution_count": 228,
   "id": "eb4a0825-eac5-46d6-accb-fd9a9512bb37",
   "metadata": {},
   "outputs": [
    {
     "data": {
      "text/plain": [
       "[3, 'e', 'a', 23, 1, 2]"
      ]
     },
     "execution_count": 228,
     "metadata": {},
     "output_type": "execute_result"
    }
   ],
   "source": [
    "b"
   ]
  },
  {
   "cell_type": "code",
   "execution_count": 230,
   "id": "038b9510-a50f-46f9-8c4f-aa60ff4a4be9",
   "metadata": {},
   "outputs": [
    {
     "data": {
      "text/plain": [
       "2"
      ]
     },
     "execution_count": 230,
     "metadata": {},
     "output_type": "execute_result"
    }
   ],
   "source": [
    "b.pop()"
   ]
  },
  {
   "cell_type": "code",
   "execution_count": 232,
   "id": "944d8103-1255-44d4-9c17-aee92d94f835",
   "metadata": {},
   "outputs": [
    {
     "data": {
      "text/plain": [
       "[3, 'e', 'a', 23, 1]"
      ]
     },
     "execution_count": 232,
     "metadata": {},
     "output_type": "execute_result"
    }
   ],
   "source": [
    "b"
   ]
  },
  {
   "cell_type": "code",
   "execution_count": 240,
   "id": "770fade9-adba-4bb9-94d3-6ba9e138fb2b",
   "metadata": {},
   "outputs": [],
   "source": [
    "a.clear()"
   ]
  },
  {
   "cell_type": "code",
   "execution_count": 242,
   "id": "adcf6ad2-5e6d-408d-859a-7ba60c95cedc",
   "metadata": {},
   "outputs": [
    {
     "data": {
      "text/plain": [
       "[]"
      ]
     },
     "execution_count": 242,
     "metadata": {},
     "output_type": "execute_result"
    }
   ],
   "source": [
    "a"
   ]
  },
  {
   "cell_type": "code",
   "execution_count": 244,
   "id": "1eac2e8d-6247-4ede-9d9c-65d77568b2cf",
   "metadata": {},
   "outputs": [
    {
     "name": "stdout",
     "output_type": "stream",
     "text": [
      "apple\n",
      "banana\n",
      "cherry\n"
     ]
    },
    {
     "data": {
      "text/plain": [
       "[None, None, None]"
      ]
     },
     "execution_count": 244,
     "metadata": {},
     "output_type": "execute_result"
    }
   ],
   "source": [
    "thislist = [\"apple\", \"banana\", \"cherry\"]\n",
    "[print(x) for x in thislist]"
   ]
  },
  {
   "cell_type": "code",
   "execution_count": 248,
   "id": "168e9708-59ca-45fa-aac1-37c384d3fa1b",
   "metadata": {},
   "outputs": [
    {
     "data": {
      "text/plain": [
       "110"
      ]
     },
     "execution_count": 248,
     "metadata": {},
     "output_type": "execute_result"
    }
   ],
   "source": [
    "x=lambda a: a+100\n",
    "x(10)"
   ]
  },
  {
   "cell_type": "code",
   "execution_count": 252,
   "id": "487f8a7f-7a6b-44d3-b40a-107017c8e056",
   "metadata": {},
   "outputs": [],
   "source": [
    "a=\"the wheels on the bus go round and round\""
   ]
  },
  {
   "cell_type": "code",
   "execution_count": 254,
   "id": "85d47f2c-a97a-4f3b-98bc-c5cbb502bcc8",
   "metadata": {},
   "outputs": [],
   "source": [
    "import re"
   ]
  },
  {
   "cell_type": "code",
   "execution_count": 256,
   "id": "82271b1d-3fab-421d-b979-956d8387878d",
   "metadata": {},
   "outputs": [],
   "source": [
    "txt=re.findall(\"the\",a)"
   ]
  },
  {
   "cell_type": "code",
   "execution_count": 258,
   "id": "344636a4-1453-4cfc-afba-2da9de7f41e1",
   "metadata": {},
   "outputs": [
    {
     "data": {
      "text/plain": [
       "['the', 'the']"
      ]
     },
     "execution_count": 258,
     "metadata": {},
     "output_type": "execute_result"
    }
   ],
   "source": [
    "txt"
   ]
  },
  {
   "cell_type": "code",
   "execution_count": 260,
   "id": "45e05250-8309-4cb4-8d3d-f8faa710a7b5",
   "metadata": {},
   "outputs": [
    {
     "data": {
      "text/plain": [
       "'the'"
      ]
     },
     "execution_count": 260,
     "metadata": {},
     "output_type": "execute_result"
    }
   ],
   "source": [
    "txt[1]"
   ]
  },
  {
   "cell_type": "code",
   "execution_count": 262,
   "id": "d1408aa9-235b-4486-bf8a-bf92c3b97721",
   "metadata": {},
   "outputs": [],
   "source": [
    "txt2=re.findall(\"rou\",a)"
   ]
  },
  {
   "cell_type": "code",
   "execution_count": 264,
   "id": "fceb5da9-17aa-478d-bfd1-1bb0fa0e2481",
   "metadata": {},
   "outputs": [
    {
     "data": {
      "text/plain": [
       "['rou', 'rou']"
      ]
     },
     "execution_count": 264,
     "metadata": {},
     "output_type": "execute_result"
    }
   ],
   "source": [
    "txt2"
   ]
  },
  {
   "cell_type": "code",
   "execution_count": 266,
   "id": "c13a599a-4776-4e15-b30e-0d573f87fbce",
   "metadata": {},
   "outputs": [],
   "source": [
    "txt3=re.search(\"bus\",a)"
   ]
  },
  {
   "cell_type": "code",
   "execution_count": 268,
   "id": "b0fb6726-e0fa-4318-b384-0486fbe1e9b4",
   "metadata": {},
   "outputs": [
    {
     "data": {
      "text/plain": [
       "<re.Match object; span=(18, 21), match='bus'>"
      ]
     },
     "execution_count": 268,
     "metadata": {},
     "output_type": "execute_result"
    }
   ],
   "source": [
    "txt3"
   ]
  },
  {
   "cell_type": "code",
   "execution_count": 270,
   "id": "f32c50c3-8f75-4ed8-8b39-76d527a48d51",
   "metadata": {},
   "outputs": [
    {
     "data": {
      "text/plain": [
       "18"
      ]
     },
     "execution_count": 270,
     "metadata": {},
     "output_type": "execute_result"
    }
   ],
   "source": [
    "txt3.start()"
   ]
  },
  {
   "cell_type": "code",
   "execution_count": 272,
   "id": "35083715-8d0d-45d8-a1dc-338aa1d4b62b",
   "metadata": {},
   "outputs": [
    {
     "data": {
      "text/plain": [
       "21"
      ]
     },
     "execution_count": 272,
     "metadata": {},
     "output_type": "execute_result"
    }
   ],
   "source": [
    "txt3.end()"
   ]
  },
  {
   "cell_type": "code",
   "execution_count": 274,
   "id": "06ab5b6e-e916-4b10-840a-41c796b9d19b",
   "metadata": {},
   "outputs": [
    {
     "data": {
      "text/plain": [
       "25"
      ]
     },
     "execution_count": 274,
     "metadata": {},
     "output_type": "execute_result"
    }
   ],
   "source": [
    "a.find(\"round\")"
   ]
  },
  {
   "cell_type": "code",
   "execution_count": 280,
   "id": "c7c8742b-54f9-4a74-9363-9aa0978e9d1c",
   "metadata": {},
   "outputs": [
    {
     "name": "stdout",
     "output_type": "stream",
     "text": [
      "Error occured\n",
      "Print not successful\n"
     ]
    }
   ],
   "source": [
    "try:\n",
    "    print(abc)\n",
    "except: \n",
    "    print(\"Error occured\")\n",
    "else:\n",
    "    print(\"No error\")\n",
    "finally:\n",
    "    print(\"Print not successful\")"
   ]
  },
  {
   "cell_type": "code",
   "execution_count": 2,
   "id": "611dbe9d-1625-43d2-8aee-9c853b3d9bbe",
   "metadata": {},
   "outputs": [
    {
     "data": {
      "text/plain": [
       "25"
      ]
     },
     "execution_count": 2,
     "metadata": {},
     "output_type": "execute_result"
    }
   ],
   "source": [
    "a=lambda x:x+15\n",
    "a(10)"
   ]
  },
  {
   "cell_type": "code",
   "execution_count": 4,
   "id": "9c0eedb5-b33a-45e8-bc79-74460a9f1d6a",
   "metadata": {},
   "outputs": [
    {
     "data": {
      "text/plain": [
       "48"
      ]
     },
     "execution_count": 4,
     "metadata": {},
     "output_type": "execute_result"
    }
   ],
   "source": [
    "a=lambda x,y:x*y\n",
    "a(6,8)"
   ]
  },
  {
   "cell_type": "code",
   "execution_count": 6,
   "id": "05bc269c-60e0-4a8a-8860-40b46f34fcf0",
   "metadata": {},
   "outputs": [
    {
     "data": {
      "text/plain": [
       "20"
      ]
     },
     "execution_count": 6,
     "metadata": {},
     "output_type": "execute_result"
    }
   ],
   "source": [
    "x=lambda a: a*2\n",
    "def multiplier(a):\n",
    "    return x(a)\n",
    "multiplier(10)"
   ]
  },
  {
   "cell_type": "code",
   "execution_count": 8,
   "id": "af6267bb-baef-4d7a-b5e3-d74266d166a3",
   "metadata": {},
   "outputs": [],
   "source": [
    "a=[10,1,20]\n",
    "a.sort()"
   ]
  },
  {
   "cell_type": "code",
   "execution_count": 10,
   "id": "242a8c06-8936-4dd6-91d1-2ffe792e35d1",
   "metadata": {},
   "outputs": [
    {
     "data": {
      "text/plain": [
       "[1, 10, 20]"
      ]
     },
     "execution_count": 10,
     "metadata": {},
     "output_type": "execute_result"
    }
   ],
   "source": [
    "a"
   ]
  },
  {
   "cell_type": "code",
   "execution_count": 12,
   "id": "77fcc230-a283-40cd-a273-c538cd23146c",
   "metadata": {},
   "outputs": [
    {
     "data": {
      "text/plain": [
       "[1, 10, 20]"
      ]
     },
     "execution_count": 12,
     "metadata": {},
     "output_type": "execute_result"
    }
   ],
   "source": [
    "a"
   ]
  },
  {
   "cell_type": "code",
   "execution_count": 14,
   "id": "2169b08f-d115-498d-98ba-2351b1381960",
   "metadata": {},
   "outputs": [],
   "source": [
    "a.sort(reverse=True)"
   ]
  },
  {
   "cell_type": "code",
   "execution_count": 16,
   "id": "109718b3-7915-4941-8dc7-50aa8d0f9322",
   "metadata": {},
   "outputs": [
    {
     "data": {
      "text/plain": [
       "[20, 10, 1]"
      ]
     },
     "execution_count": 16,
     "metadata": {},
     "output_type": "execute_result"
    }
   ],
   "source": [
    "a"
   ]
  },
  {
   "cell_type": "code",
   "execution_count": 34,
   "id": "983b28c4-7761-409f-a07b-e096af7d2921",
   "metadata": {},
   "outputs": [],
   "source": [
    "eve= lambda x: x if x%2==0 else ''\n",
    "even=[]\n",
    "odd=[]\n"
   ]
  },
  {
   "cell_type": "code",
   "execution_count": 44,
   "id": "ea25d900-7888-4149-b426-d3a2faa8eef8",
   "metadata": {},
   "outputs": [],
   "source": [
    "def evn_odd(a):\n",
    "   num = eve(i)\n",
    "   if num != '':\n",
    "    even.append(num)\n",
    "   else:\n",
    "    odd.append(num)\n",
    "   return even, odd"
   ]
  },
  {
   "cell_type": "code",
   "execution_count": 46,
   "id": "e72f6e8f-d289-437e-b8d9-fe8d74e5e29f",
   "metadata": {},
   "outputs": [],
   "source": [
    "for i in range(1,11,1):\n",
    "    evn_odd(i)"
   ]
  },
  {
   "cell_type": "code",
   "execution_count": 48,
   "id": "50345f85-30aa-4277-b215-4c26c0cc2994",
   "metadata": {},
   "outputs": [
    {
     "data": {
      "text/plain": [
       "[2, 4, 6, 8, 10]"
      ]
     },
     "execution_count": 48,
     "metadata": {},
     "output_type": "execute_result"
    }
   ],
   "source": [
    "even"
   ]
  },
  {
   "cell_type": "code",
   "execution_count": 50,
   "id": "86b77bf2-5ca2-4a9f-9fc7-cfb65f91fbfe",
   "metadata": {},
   "outputs": [
    {
     "data": {
      "text/plain": [
       "['', '', '', '', '']"
      ]
     },
     "execution_count": 50,
     "metadata": {},
     "output_type": "execute_result"
    }
   ],
   "source": [
    "odd"
   ]
  },
  {
   "cell_type": "code",
   "execution_count": 6,
   "id": "e2ff3079-5114-407e-b953-37b93dfcc98c",
   "metadata": {},
   "outputs": [
    {
     "name": "stdout",
     "output_type": "stream",
     "text": [
      "1\n",
      "1\n",
      "2\n",
      "3\n",
      "5\n",
      "8\n",
      "13\n",
      "21\n",
      "34\n",
      "55\n",
      "89\n"
     ]
    }
   ],
   "source": [
    "a=b=1\n",
    "c=0\n",
    "print(a)\n",
    "print(b)\n",
    "while a+b<100:\n",
    "    c=a+b\n",
    "    print(c)\n",
    "    a=b\n",
    "    b=c"
   ]
  },
  {
   "cell_type": "code",
   "execution_count": 8,
   "id": "416e58e3-e11c-4d06-9e21-bd994c6c0b5c",
   "metadata": {},
   "outputs": [],
   "source": [
    "#first 100 primes"
   ]
  },
  {
   "cell_type": "code",
   "execution_count": 10,
   "id": "2f9b6b34-8860-4554-99e8-7d4a4210bbf5",
   "metadata": {},
   "outputs": [
    {
     "name": "stdout",
     "output_type": "stream",
     "text": [
      "1\n",
      "1\n",
      "2\n",
      "3\n",
      "5\n",
      "8\n",
      "13\n",
      "21\n",
      "34\n",
      "55\n",
      "89\n",
      "144\n",
      "233\n",
      "377\n",
      "610\n",
      "987\n",
      "1597\n",
      "2584\n",
      "4181\n",
      "6765\n",
      "10946\n",
      "17711\n",
      "28657\n",
      "46368\n",
      "75025\n",
      "121393\n",
      "196418\n",
      "317811\n",
      "514229\n",
      "832040\n",
      "1346269\n",
      "2178309\n",
      "3524578\n",
      "5702887\n",
      "9227465\n",
      "14930352\n",
      "24157817\n",
      "39088169\n",
      "63245986\n",
      "102334155\n",
      "165580141\n",
      "267914296\n",
      "433494437\n",
      "701408733\n",
      "1134903170\n",
      "1836311903\n",
      "2971215073\n",
      "4807526976\n",
      "7778742049\n",
      "12586269025\n",
      "20365011074\n",
      "32951280099\n",
      "53316291173\n",
      "86267571272\n",
      "139583862445\n",
      "225851433717\n",
      "365435296162\n",
      "591286729879\n",
      "956722026041\n",
      "1548008755920\n",
      "2504730781961\n",
      "4052739537881\n",
      "6557470319842\n",
      "10610209857723\n",
      "17167680177565\n",
      "27777890035288\n",
      "44945570212853\n",
      "72723460248141\n",
      "117669030460994\n",
      "190392490709135\n",
      "308061521170129\n",
      "498454011879264\n",
      "806515533049393\n",
      "1304969544928657\n",
      "2111485077978050\n",
      "3416454622906707\n",
      "5527939700884757\n",
      "8944394323791464\n",
      "14472334024676221\n",
      "23416728348467685\n",
      "37889062373143906\n",
      "61305790721611591\n",
      "99194853094755497\n",
      "160500643816367088\n",
      "259695496911122585\n",
      "420196140727489673\n",
      "679891637638612258\n",
      "1100087778366101931\n",
      "1779979416004714189\n",
      "2880067194370816120\n",
      "4660046610375530309\n",
      "7540113804746346429\n",
      "12200160415121876738\n",
      "19740274219868223167\n",
      "31940434634990099905\n",
      "51680708854858323072\n",
      "83621143489848422977\n",
      "135301852344706746049\n",
      "218922995834555169026\n",
      "354224848179261915075\n",
      "573147844013817084101\n",
      "927372692193078999176\n",
      "1500520536206896083277\n"
     ]
    }
   ],
   "source": [
    "a=b=1\n",
    "c=0\n",
    "count=0\n",
    "print(a)\n",
    "print(b)\n",
    "while count<101:\n",
    "    c=a+b\n",
    "    print(c)\n",
    "    count+=1\n",
    "    a=b\n",
    "    b=c"
   ]
  },
  {
   "cell_type": "code",
   "execution_count": 12,
   "id": "fc72a947-8138-4cce-9737-fffae6743868",
   "metadata": {},
   "outputs": [],
   "source": [
    "#fist n primes"
   ]
  },
  {
   "cell_type": "code",
   "execution_count": 16,
   "id": "d16b1b0c-fe01-4043-b780-e47e8587bc67",
   "metadata": {},
   "outputs": [
    {
     "name": "stdin",
     "output_type": "stream",
     "text": [
      "Enter the number of primes required 25\n"
     ]
    },
    {
     "name": "stdout",
     "output_type": "stream",
     "text": [
      "1\n",
      "1\n",
      "2\n",
      "3\n",
      "5\n",
      "8\n",
      "13\n",
      "21\n",
      "34\n",
      "55\n",
      "89\n",
      "144\n",
      "233\n",
      "377\n",
      "610\n",
      "987\n",
      "1597\n",
      "2584\n",
      "4181\n",
      "6765\n",
      "10946\n",
      "17711\n",
      "28657\n",
      "46368\n",
      "75025\n",
      "121393\n"
     ]
    }
   ],
   "source": [
    "n=int(input(\"Enter the number of primes required\"))\n",
    "a=b=1\n",
    "print(a)\n",
    "print(b)\n",
    "c=0\n",
    "count=2\n",
    "while count<n+1:\n",
    "    c=a+b\n",
    "    print(c)\n",
    "    count+=1\n",
    "    a=b\n",
    "    b=c\n",
    "    "
   ]
  },
  {
   "cell_type": "code",
   "execution_count": 30,
   "id": "bdcf17e6-9f5c-4816-a717-8f209547864f",
   "metadata": {},
   "outputs": [
    {
     "name": "stdout",
     "output_type": "stream",
     "text": [
      "\t\t*\t\t\n",
      "\t*\t\t*\t\n",
      "*\t\t*\t\t*\n"
     ]
    }
   ],
   "source": [
    "print(\"\\t\\t*\\t\\t\")\n",
    "print(\"\\t*\\t\\t*\\t\")\n",
    "print(\"*\\t\\t*\\t\\t*\")"
   ]
  },
  {
   "cell_type": "code",
   "execution_count": null,
   "id": "41db686f-fd00-494a-922d-72d8ce562289",
   "metadata": {},
   "outputs": [],
   "source": []
  }
 ],
 "metadata": {
  "kernelspec": {
   "display_name": "Python 3 (ipykernel)",
   "language": "python",
   "name": "python3"
  },
  "language_info": {
   "codemirror_mode": {
    "name": "ipython",
    "version": 3
   },
   "file_extension": ".py",
   "mimetype": "text/x-python",
   "name": "python",
   "nbconvert_exporter": "python",
   "pygments_lexer": "ipython3",
   "version": "3.12.4"
  }
 },
 "nbformat": 4,
 "nbformat_minor": 5
}
